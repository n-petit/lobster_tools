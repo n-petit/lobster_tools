{
 "cells": [
  {
   "cell_type": "code",
   "execution_count": 34,
   "metadata": {},
   "outputs": [
    {
     "name": "stdout",
     "output_type": "stream",
     "text": [
      "Obtaining file:///Users/nic/Documents/GitHub/lobster_tools\n",
      "  Preparing metadata (setup.py): started\n",
      "  Preparing metadata (setup.py): finished with status 'done'\n",
      "Requirement already satisfied: Click>=7.0 in ./venv/lib/python3.8/site-packages (from lobster-tools==1.0) (8.1.3)\n",
      "Installing collected packages: lobster-tools\n",
      "  Attempting uninstall: lobster-tools\n",
      "    Found existing installation: lobster-tools 1.0\n",
      "    Uninstalling lobster-tools-1.0:\n",
      "      Successfully uninstalled lobster-tools-1.0\n",
      "  Running setup.py develop for lobster-tools\n",
      "Successfully installed lobster-tools-1.0\n"
     ]
    },
    {
     "name": "stderr",
     "output_type": "stream",
     "text": [
      "WARNING: You are using pip version 22.0.4; however, version 23.0 is available.\n",
      "You should consider upgrading via the '/Users/nic/Documents/GitHub/lobster_tools/examples/venv/bin/python3 -m pip install --upgrade pip' command.\n"
     ]
    }
   ],
   "source": [
    "# %%bash\n",
    "# python3 -m venv venv\n",
    "# source venv/bin/activate\n",
    "# pip install -e .."
   ]
  },
  {
   "cell_type": "code",
   "execution_count": 2,
   "metadata": {},
   "outputs": [],
   "source": [
    "import sys\n",
    "sys.path.append('../lobster_tools/')\n",
    "\n",
    "from lobster_tools import base_classes as bc"
   ]
  },
  {
   "cell_type": "code",
   "execution_count": 4,
   "metadata": {},
   "outputs": [
    {
     "data": {
      "text/plain": [
       "<module 'lobster_tools.base_classes' from '/Users/nic/Documents/GitHub/lobster_tools/lobster_tools/base_classes.py'>"
      ]
     },
     "execution_count": 4,
     "metadata": {},
     "output_type": "execute_result"
    }
   ],
   "source": [
    "bc.ALMOST_PI"
   ]
  }
 ],
 "metadata": {
  "kernelspec": {
   "display_name": "latest",
   "language": "python",
   "name": "python3"
  },
  "language_info": {
   "codemirror_mode": {
    "name": "ipython",
    "version": 3
   },
   "file_extension": ".py",
   "mimetype": "text/x-python",
   "name": "python",
   "nbconvert_exporter": "python",
   "pygments_lexer": "ipython3",
   "version": "3.8.15"
  },
  "orig_nbformat": 4,
  "vscode": {
   "interpreter": {
    "hash": "d175eefad4fd8622a7ae935d8635f2e96c0518b86d206e0c916d6268551531b8"
   }
  }
 },
 "nbformat": 4,
 "nbformat_minor": 2
}
